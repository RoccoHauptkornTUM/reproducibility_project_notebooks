{
 "cells": [
  {
   "cell_type": "code",
   "execution_count": null,
   "id": "fea9d6df",
   "metadata": {},
   "outputs": [],
   "source": [
    "# === Imports ===\n",
    "import pandas as pd\n",
    "import numpy as np\n",
    "import matplotlib.pyplot as plt\n",
    "import seaborn as sns\n",
    "from sklearn.preprocessing import StandardScaler\n",
    "from sklearn.cluster import KMeans\n",
    "from datetime import datetime\n",
    "import os"
   ]
  },
  {
   "cell_type": "code",
   "execution_count": null,
   "id": "ec681fd5",
   "metadata": {},
   "outputs": [],
   "source": [
    "# === Step 1: Load data ===\n",
    "df = pd.read_csv(\"sales_data_large.csv\", parse_dates=[\"Order Date\"])\n",
    "output_dir = \"ba_output\"\n",
    "os.makedirs(output_dir, exist_ok = True)\n",
    "\n",
    "#first overview\n",
    "print(\"Preview of the Data:\")\n",
    "print(df.head())\n",
    "print(\"\\nData description:\")\n",
    "print(df.describe())"
   ]
  },
  {
   "cell_type": "code",
   "execution_count": null,
   "id": "48173e64",
   "metadata": {},
   "outputs": [],
   "source": [
    "# === Step 2: Clean up ===\n",
    "df = df.dropna()\n",
    "df[\"Order Date\"] = pd.to_datetime(df[\"Order Date\"])\n",
    "df[\"Month\"] = df[\"Order Date\"].dt.to_period(\"M\")\n",
    "df[\"Total Value\"] = df[\"Sales\"] * df[\"Quantity\"]"
   ]
  },
  {
   "cell_type": "code",
   "execution_count": null,
   "id": "40a40d23",
   "metadata": {},
   "outputs": [],
   "source": [
    "# === Step 3: Customer analysis ===\n",
    "customer_sales = df.groupby(\"Customer\").agg({\n",
    "    \"Order ID\": \"nunique\",\n",
    "    \"Total Value\": \"sum\",\n",
    "    \"Sales\": \"mean\",\n",
    "    \"Quantity\": \"sum\"\n",
    "}).rename(columns={\n",
    "    \"Order ID\": \"Unique Orders\",\n",
    "    \"Total Value\": \"Total Revenue\",\n",
    "    \"Sales\": \"Avg Basket\",\n",
    "    \"Quantity\": \"Total Items\"\n",
    "}).reset_index()\n",
    "\n",
    "# recognize repeat buyers\n",
    "repeat_customers = df.groupby(\"Customer\")[\"Order Date\"].nunique().reset_index()\n",
    "repeat_customers[\"Repeat Buyer\"] = repeat_customers[\"Order Date\"] > 1\n",
    "customer_sales = customer_sales.merge(repeat_customers[[\"Customer\", \"Repeat Buyer\"]], on=\"Customer\")\n",
    "\n",
    "print(\"\\nTop 5 Customers:\")\n",
    "print(customer_sales.sort_values(\"Total Revenue\", ascending=False).head())"
   ]
  },
  {
   "cell_type": "code",
   "execution_count": null,
   "id": "da7f6515",
   "metadata": {},
   "outputs": [],
   "source": [
    "# === Step 4: Sales analysis ===\n",
    "monthly_sales = df.groupby(\"Month\")[\"Sales\"].sum().reset_index()\n",
    "monthly_sales[\"Month\"] = monthly_sales[\"Month\"].astype(str)\n",
    "\n",
    "plt.figure(figsize=(10,5))\n",
    "sns.lineplot(data=monthly_sales, x=\"Month\", y=\"Sales\", marker=\"o\")\n",
    "plt.xticks(rotation=45)\n",
    "plt.title(\"Monthly sales\")\n",
    "plt.tight_layout()\n",
    "plt.savefig(os.path.join(output_dir, \"monthly_sales_trend.png\"))\n",
    "plt.close()"
   ]
  },
  {
   "cell_type": "code",
   "execution_count": null,
   "id": "c2e6547c",
   "metadata": {},
   "outputs": [],
   "source": [
    "# === Step 5: Product analysis ===\n",
    "product_perf = df.groupby(\"Product\").agg({\n",
    "    \"Sales\": \"sum\",\n",
    "    \"Quantity\": \"sum\",\n",
    "    \"Order ID\": \"count\"\n",
    "}).rename(columns={\"Order ID\": \"Num Orders\"}).reset_index()\n",
    "\n",
    "plt.figure(figsize=(10,5))\n",
    "sns.barplot(data=product_perf.sort_values(\"Sales\", ascending=False), x=\"Product\", y=\"Sales\")\n",
    "plt.title(\"Top products by sales\")\n",
    "plt.tight_layout()\n",
    "plt.savefig(os.path.join(output_dir, \"top_products.png\"))\n",
    "plt.close()\n"
   ]
  },
  {
   "cell_type": "code",
   "execution_count": null,
   "id": "6addb230",
   "metadata": {},
   "outputs": [],
   "source": [
    "# === Step 6: Heatmap correlations ===\n",
    "plt.figure(figsize=(8,6))\n",
    "corr = customer_sales[[\"Unique Orders\", \"Total Revenue\", \"Avg Basket\", \"Total Items\"]].corr()\n",
    "sns.heatmap(corr, annot=True, cmap=\"coolwarm\")\n",
    "plt.title(\"Correlations between customer metrics\")\n",
    "plt.tight_layout()\n",
    "plt.savefig(os.path.join(output_dir, \"correlation_heatmap.png\"))\n",
    "plt.close()\n",
    "\n",
    "# Clustering\n",
    "clustering_data = customer_sales[[\"Total Revenue\", \"Unique Orders\", \"Avg Basket\"]].copy()\n",
    "scaler = StandardScaler()\n",
    "scaled = scaler.fit_transform(clustering_data)\n",
    "\n",
    "kmeans = KMeans(n_clusters=4, random_state=42)\n",
    "customer_sales[\"Segment\"] = kmeans.fit_predict(scaled)"
   ]
  },
  {
   "cell_type": "code",
   "execution_count": null,
   "id": "6310b871",
   "metadata": {},
   "outputs": [],
   "source": [
    "# === Step 7: Segment analysis ===\n",
    "segment_summary = customer_sales.groupby(\"Segment\").agg({\n",
    "    \"Total Revenue\": \"mean\",\n",
    "    \"Avg Basket\": \"mean\",\n",
    "    \"Unique Orders\": \"mean\",\n",
    "    \"Customer\": \"count\"\n",
    "}).rename(columns={\"Customer\": \"Num Customers\"})\n",
    "\n",
    "print(\"\\nSegment overview:\")\n",
    "print(segment_summary)"
   ]
  },
  {
   "cell_type": "code",
   "execution_count": null,
   "id": "58b3a200",
   "metadata": {},
   "outputs": [],
   "source": [
    "# === Step 8: Visualization: Customer clusters ===\n",
    "plt.figure(figsize=(8,6))\n",
    "sns.scatterplot(\n",
    "    x=customer_sales[\"Total Revenue\"],\n",
    "    y=customer_sales[\"Avg Basket\"],\n",
    "    hue=customer_sales[\"Segment\"],\n",
    "    palette=\"tab10\"\n",
    ")\n",
    "plt.title(\"Customer segments by sales and shopping cart size\")\n",
    "plt.tight_layout()\n",
    "plt.savefig(os.path.join(output_dir, \"customer_segments.png\"))\n",
    "plt.close()"
   ]
  },
  {
   "cell_type": "code",
   "execution_count": null,
   "id": "733c5cb0",
   "metadata": {},
   "outputs": [],
   "source": [
    "# === Step 9: Export results ===\n",
    "customer_sales.to_csv(os.path.join(output_dir, \"customer_segmentation.csv\"), index=False)\n",
    "segment_summary.to_csv(os.path.join(output_dir, \"segment_summary.csv\"))\n",
    "\n",
    "report_path = os.path.join(output_dir, \"summary_report.txt\")\n",
    "with open(report_path, \"w\", encoding=\"utf-8\") as f:\n",
    "    f.write(\"=== Business Analytics Summary ===\\n\\n\")\n",
    "    \n",
    "    f.write(\"Top 5 Customers by Total Revenue:\\n\")\n",
    "    top_customers = customer_sales.sort_values(\"Total Revenue\", ascending=False).head()\n",
    "    f.write(top_customers.to_string(index=False))\n",
    "    f.write(\"\\n\\n\")\n",
    "\n",
    "    f.write(\"Monthly Sales Overview:\\n\")\n",
    "    f.write(monthly_sales.to_string(index=False))\n",
    "    f.write(\"\\n\\n\")\n",
    "\n",
    "    f.write(\"Top Products by Sales:\\n\")\n",
    "    top_products = product_perf.sort_values(\"Sales\", ascending=False).head()\n",
    "    f.write(top_products.to_string(index=False))\n",
    "    f.write(\"\\n\\n\")\n",
    "\n",
    "    f.write(\"Customer Segment Summary:\\n\")\n",
    "    f.write(segment_summary.to_string())\n",
    "    f.write(\"\\n\\n\")\n",
    "\n",
    "    f.write(\"Correlations Between Customer Metrics:\\n\")\n",
    "    f.write(corr.to_string())\n",
    "\n",
    "print(\"\\nReports saved.\")"
   ]
  }
 ],
 "metadata": {
  "kernelspec": {
   "display_name": "Python 3",
   "language": "python",
   "name": "python3"
  },
  "language_info": {
   "codemirror_mode": {
    "name": "ipython",
    "version": 3
   },
   "file_extension": ".py",
   "mimetype": "text/x-python",
   "name": "python",
   "nbconvert_exporter": "python",
   "pygments_lexer": "ipython3",
   "version": "3.12.10"
  }
 },
 "nbformat": 4,
 "nbformat_minor": 5
}
