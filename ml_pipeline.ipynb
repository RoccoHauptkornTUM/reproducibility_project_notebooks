{
 "cells": [
  {
   "cell_type": "code",
   "execution_count": null,
   "id": "0d69ba1e",
   "metadata": {},
   "outputs": [],
   "source": [
    "# === Imports ===\n",
    "import pandas as pd\n",
    "import numpy as np\n",
    "import os\n",
    "import kagglehub\n",
    "from sklearn.model_selection import train_test_split\n",
    "from sklearn.preprocessing import OneHotEncoder, StandardScaler\n",
    "from sklearn.compose import ColumnTransformer\n",
    "from sklearn.pipeline import Pipeline\n",
    "from sklearn.impute import SimpleImputer\n",
    "from sklearn.linear_model import LogisticRegression\n",
    "from sklearn.ensemble import RandomForestClassifier\n",
    "from sklearn.metrics import classification_report, confusion_matrix, roc_auc_score, roc_curve\n",
    "import matplotlib.pyplot as plt\n",
    "import seaborn as sns\n",
    "import joblib"
   ]
  },
  {
   "cell_type": "code",
   "execution_count": null,
   "id": "82029db2",
   "metadata": {},
   "outputs": [],
   "source": [
    "# === Step 1: Load the dataset using KaggleHub ===\n",
    "\n",
    "# Automatically downloads (or loads cached version)\n",
    "path = kagglehub.dataset_download(\"benroshan/factors-affecting-campus-placement\")\n",
    "\n",
    "# Load CSV\n",
    "df = pd.read_csv(os.path.join(path, \"Placement_Data_Full_Class.csv\"))"
   ]
  },
  {
   "cell_type": "code",
   "execution_count": null,
   "id": "0aa8f5b0",
   "metadata": {},
   "outputs": [],
   "source": [
    "# === Step 2: Clean and prepare ===\n",
    "df = df.drop(columns=[\"sl_no\"])\n",
    "df[\"status\"] = df[\"status\"].map({\"Placed\": 1, \"Not Placed\": 0})\n",
    "df = df[df[\"status\"].notna()]  # keep all placed and not placed students\n",
    "\n",
    "# Define output folder\n",
    "output_dir = \"ml_output\"\n",
    "os.makedirs(output_dir, exist_ok=True)\n",
    "\n",
    "# Define features and target\n",
    "target = \"status\"\n",
    "X = df.drop(columns=[target, \"salary\"])\n",
    "y = df[target]"
   ]
  },
  {
   "cell_type": "code",
   "execution_count": null,
   "id": "e04eb778",
   "metadata": {},
   "outputs": [],
   "source": [
    "# === Step 3: Stratified split ===\n",
    "X_train, X_temp, y_train, y_temp = train_test_split(X, y, test_size=0.3, stratify=y, random_state=42)\n",
    "X_val, X_test, y_val, y_test = train_test_split(X_temp, y_temp, test_size=0.5, stratify=y_temp, random_state=42)"
   ]
  },
  {
   "cell_type": "code",
   "execution_count": null,
   "id": "a985cc7a",
   "metadata": {},
   "outputs": [],
   "source": [
    "# === Step 4: Preprocessing pipeline ===\n",
    "categorical_features = X_train.select_dtypes(include=[\"object\"]).columns.tolist()\n",
    "numeric_features = X_train.select_dtypes(include=[\"int64\", \"float64\"]).columns.tolist()\n",
    "\n",
    "categorical_transformer = Pipeline(steps=[\n",
    "    (\"imputer\", SimpleImputer(strategy=\"most_frequent\")),\n",
    "    (\"onehot\", OneHotEncoder(handle_unknown=\"ignore\"))\n",
    "])\n",
    "\n",
    "numeric_transformer = Pipeline(steps=[\n",
    "    (\"imputer\", SimpleImputer(strategy=\"mean\")),\n",
    "    (\"scaler\", StandardScaler())\n",
    "])\n",
    "\n",
    "preprocessor = ColumnTransformer(transformers=[\n",
    "    (\"num\", numeric_transformer, numeric_features),\n",
    "    (\"cat\", categorical_transformer, categorical_features)\n",
    "])\n",
    "\n",
    "X_train_processed = preprocessor.fit_transform(X_train)\n",
    "X_val_processed = preprocessor.transform(X_val)\n",
    "X_test_processed = preprocessor.transform(X_test)"
   ]
  },
  {
   "cell_type": "code",
   "execution_count": null,
   "id": "93ac4b01",
   "metadata": {},
   "outputs": [],
   "source": [
    "# === Step 5: Train models ===\n",
    "lr_model = LogisticRegression(max_iter=500, random_state=42)\n",
    "lr_model.fit(X_train_processed, y_train)\n",
    "\n",
    "rf_model = RandomForestClassifier(n_estimators=100, random_state=42)\n",
    "rf_model.fit(X_train_processed, y_train)"
   ]
  },
  {
   "cell_type": "code",
   "execution_count": null,
   "id": "1bff1e4d",
   "metadata": {},
   "outputs": [],
   "source": [
    "# === Step 6: Save models ===\n",
    "joblib.dump(lr_model, os.path.join(output_dir, \"logistic_model.joblib\"))\n",
    "joblib.dump(rf_model, os.path.join(output_dir, \"random_forest_model.joblib\"))"
   ]
  },
  {
   "cell_type": "code",
   "execution_count": null,
   "id": "e56bdc35",
   "metadata": {},
   "outputs": [],
   "source": [
    "# === Step 7: Evaluate and save plots ===\n",
    "models = {\"Logistic Regression\": lr_model, \"Random Forest\": rf_model}\n",
    "\n",
    "for name, model in models.items():\n",
    "    print(f\"\\n=== {name} ===\")\n",
    "    y_pred = model.predict(X_val_processed)\n",
    "    y_prob = model.predict_proba(X_val_processed)[:, 1]\n",
    "\n",
    "    print(\"Classification Report:\")\n",
    "    print(classification_report(y_val, y_pred))\n",
    "\n",
    "    # Confusion Matrix\n",
    "    cm = confusion_matrix(y_val, y_pred)\n",
    "    plt.figure()\n",
    "    sns.heatmap(cm, annot=True, fmt='d', cmap='Blues')\n",
    "    plt.title(f\"{name} - Confusion Matrix\")\n",
    "    plt.xlabel(\"Predicted\")\n",
    "    plt.ylabel(\"Actual\")\n",
    "    plt.tight_layout()\n",
    "    plt.savefig(os.path.join(output_dir, f\"{name.lower().replace(' ', '_')}_confusion_matrix.png\"))\n",
    "    plt.close()\n",
    "\n",
    "    # ROC AUC\n",
    "    auc = roc_auc_score(y_val, y_prob)\n",
    "    print(f\"ROC AUC: {auc:.3f}\")\n",
    "\n",
    "    fpr, tpr, _ = roc_curve(y_val, y_prob)\n",
    "    plt.plot(fpr, tpr, label=f\"{name} (AUC = {auc:.2f})\")\n",
    "\n",
    "    # Combined ROC curve\n",
    "plt.plot([0, 1], [0, 1], linestyle=\"--\", color=\"gray\")\n",
    "plt.title(\"ROC Curve Comparison\")\n",
    "plt.xlabel(\"False Positive Rate\")\n",
    "plt.ylabel(\"True Positive Rate\")\n",
    "plt.legend()\n",
    "plt.grid(True)\n",
    "plt.tight_layout()\n",
    "plt.savefig(os.path.join(output_dir, \"roc_curve_comparison.png\"))\n",
    "plt.close()"
   ]
  },
  {
   "cell_type": "code",
   "execution_count": null,
   "id": "119de4ea",
   "metadata": {},
   "outputs": [],
   "source": [
    "# === Step 8: Write results to a .txt file ===\n",
    "results_path = os.path.join(output_dir, \"evaluation_results.txt\")\n",
    "with open(results_path, \"w\") as f:\n",
    "    for name, model in models.items():\n",
    "        y_pred = model.predict(X_val_processed)\n",
    "        y_prob = model.predict_proba(X_val_processed)[:, 1]\n",
    "        auc = roc_auc_score(y_val, y_prob)\n",
    "        report = classification_report(y_val, y_pred)\n",
    "        cm = confusion_matrix(y_val, y_pred)\n",
    "\n",
    "        f.write(f\"=== {name} ===\\n\")\n",
    "        f.write(f\"ROC AUC: {auc:.3f}\\n\\n\")\n",
    "        f.write(\"Classification Report:\\n\")\n",
    "        f.write(report + \"\\n\")\n",
    "        f.write(\"Confusion Matrix:\\n\")\n",
    "        f.write(np.array2string(cm))\n",
    "        f.write(\"\\n\\n\" + \"=\"*50 + \"\\n\\n\")"
   ]
  }
 ],
 "metadata": {
  "kernelspec": {
   "display_name": "Python 3",
   "language": "python",
   "name": "python3"
  },
  "language_info": {
   "codemirror_mode": {
    "name": "ipython",
    "version": 3
   },
   "file_extension": ".py",
   "mimetype": "text/x-python",
   "name": "python",
   "nbconvert_exporter": "python",
   "pygments_lexer": "ipython3",
   "version": "3.12.10"
  }
 },
 "nbformat": 4,
 "nbformat_minor": 5
}
