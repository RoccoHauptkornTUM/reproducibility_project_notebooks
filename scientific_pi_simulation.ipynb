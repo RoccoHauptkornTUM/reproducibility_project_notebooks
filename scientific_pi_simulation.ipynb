{
 "cells": [
  {
   "cell_type": "code",
   "execution_count": null,
   "id": "83889ee2",
   "metadata": {},
   "outputs": [],
   "source": [
    "import numpy as np\n",
    "import matplotlib.pyplot as plt\n",
    "import time\n",
    "import os\n",
    "import pandas as pd\n",
    "\n",
    "output_dir = \"sc_output\"\n",
    "os.makedirs(output_dir, exist_ok=True)"
   ]
  },
  {
   "cell_type": "code",
   "execution_count": null,
   "id": "1b7183e3",
   "metadata": {},
   "outputs": [],
   "source": [
    "# === Step 1: Monte Carlo Pi estimation ===\n",
    "\n",
    "def estimate_pi(n_samples, seed=None):\n",
    "    if seed is not None:\n",
    "        np.random.seed(seed)\n",
    "\n",
    "    x = np.random.rand(n_samples)\n",
    "    y = np.random.rand(n_samples)\n",
    "    inside = (x**2 + y**2) <= 1\n",
    "    n_inside = np.sum(inside)\n",
    "\n",
    "    return 4 * n_inside / n_samples\n",
    "\n",
    "pi_value = estimate_pi(10000, seed=42)\n",
    "print(f\"Estimated pi with 10,000 samples: {pi_value}\")"
   ]
  },
  {
   "cell_type": "code",
   "execution_count": null,
   "id": "7d3742aa",
   "metadata": {},
   "outputs": [],
   "source": [
    "# === Step 2: Convergence analysis ===\n",
    "\n",
    "sample_sizes = [10**i for i in range(2,6)]\n",
    "results = []\n",
    "\n",
    "for n in sample_sizes:\n",
    "    start_time = time.time()\n",
    "    pi_est = estimate_pi(n, seed=42)\n",
    "    elapsed = time.time() - start_time\n",
    "    error = abs(pi_est - np.pi)\n",
    "\n",
    "    results.append({\n",
    "        \"samples\": n,\n",
    "        \"pi_estimate\": pi_est,\n",
    "        \"error\": error,\n",
    "        \"time_sec\": elapsed\n",
    "    })\n",
    "\n",
    "    df_results = pd.DataFrame(results)\n",
    "\n",
    "    print(\"\\nSimulation results:\")\n",
    "    print(df_results)"
   ]
  },
  {
   "cell_type": "code",
   "execution_count": null,
   "id": "5f50c2a8",
   "metadata": {},
   "outputs": [],
   "source": [
    "# === Step 3: Plot convergence ===\n",
    "\n",
    "# Plot: pi estimate vs sample size\n",
    "plt.figure(figsize=(8, 5))\n",
    "plt.plot(df_results[\"samples\"], df_results[\"pi_estimate\"], marker=\"o\", label=\"Estimated Pi\")\n",
    "plt.axhline(np.pi, color=\"red\", linestyle=\"--\", label=\"True π\")\n",
    "plt.xscale(\"log\")\n",
    "plt.xlabel(\"Number of samples (log scale)\")\n",
    "plt.ylabel(\"π estimate\")\n",
    "plt.title(\"Monte Carlo Estimation of π vs. Sample Size\")\n",
    "plt.legend()\n",
    "plt.grid(True)\n",
    "plt.tight_layout()\n",
    "plt.savefig(os.path.join(output_dir, \"pi_convergence.png\"))\n",
    "plt.close()\n",
    "\n",
    "# Plot: error vs. sample size (log-log)\n",
    "plt.figure(figsize=(8, 5))\n",
    "plt.plot(df_results[\"samples\"], df_results[\"error\"], marker=\"o\", color=\"orange\")\n",
    "plt.xscale(\"log\")\n",
    "plt.yscale(\"log\")\n",
    "plt.xlabel(\"Number of samples (log scale)\")\n",
    "plt.ylabel(\"Absolute error (log scale)\")\n",
    "plt.title(\"Error vs. Sample Size (Log-Log)\")\n",
    "plt.grid(True)\n",
    "plt.tight_layout()\n",
    "plt.savefig(os.path.join(output_dir, \"error_convergence.png\"))\n",
    "plt.close()"
   ]
  },
  {
   "cell_type": "code",
   "execution_count": null,
   "id": "645da10e",
   "metadata": {},
   "outputs": [],
   "source": [
    "# === Step 4: Repeat simulation for statistical error analysis ===\n",
    "\n",
    "n_samples = 10000\n",
    "n_trials = 1000\n",
    "\n",
    "estimates = []\n",
    "for i in range(n_trials):\n",
    "    pi_est = estimate_pi(n_samples, seed=i)\n",
    "    estimates.append(pi_est)\n",
    "\n",
    "estimates = np.array(estimates)\n",
    "mean_pi = np.mean(estimates)\n",
    "std_pi = np.std(estimates)\n",
    "min_pi = np.min(estimates)\n",
    "max_pi = np.max(estimates)\n",
    "\n",
    "print(f\"\\nAfter {n_trials} trials:\")\n",
    "print(f\"Mean π: {mean_pi:.6f}\")\n",
    "print(f\"Std Dev: {std_pi:.6f}\")\n",
    "print(f\"Min π: {min_pi:.6f}, Max π: {max_pi:.6f}\")"
   ]
  },
  {
   "cell_type": "code",
   "execution_count": null,
   "id": "83ec5039",
   "metadata": {},
   "outputs": [],
   "source": [
    "# === Step 5: Plot histogram ===\n",
    "\n",
    "plt.figure(figsize=(8, 5))\n",
    "plt.hist(estimates, bins=15, color=\"skyblue\", edgecolor=\"black\")\n",
    "plt.axvline(np.pi, color=\"red\", linestyle=\"--\", label=\"True π\")\n",
    "plt.axvline(mean_pi, color=\"green\", linestyle=\"--\", label=\"Mean estimate\")\n",
    "plt.xlabel(\"Estimated π\")\n",
    "plt.ylabel(\"Frequency\")\n",
    "plt.title(f\"Histogram of π Estimates ({n_trials} trials, {n_samples} samples)\")\n",
    "plt.legend()\n",
    "plt.tight_layout()\n",
    "plt.savefig(os.path.join(output_dir, \"pi_estimate_histogram.png\"))\n",
    "plt.close()"
   ]
  },
  {
   "cell_type": "code",
   "execution_count": null,
   "id": "332734ff",
   "metadata": {},
   "outputs": [],
   "source": [
    "# === Step 6: Save results to .txt ===\n",
    "\n",
    "summary_path = os.path.join(output_dir, \"simulation_summary.txt\")\n",
    "with open(summary_path, \"w\") as f:\n",
    "    f.write(\"=== Monte Carlo π Estimation Summary ===\\n\\n\")\n",
    "    \n",
    "    f.write(\"Convergence Results:\\n\")\n",
    "    f.write(df_results.to_string(index=False))\n",
    "    f.write(\"\\n\\n\")\n",
    "\n",
    "    f.write(f\"Repeated Trials (n={n_trials}, samples={n_samples}):\\n\")\n",
    "    f.write(f\"Mean π: {mean_pi:.6f}\\n\")\n",
    "    f.write(f\"Std Dev: {std_pi:.6f}\\n\")\n",
    "    f.write(f\"Min π: {min_pi:.6f}, Max π: {max_pi:.6f}\\n\")"
   ]
  }
 ],
 "metadata": {
  "kernelspec": {
   "display_name": "Python 3",
   "language": "python",
   "name": "python3"
  },
  "language_info": {
   "codemirror_mode": {
    "name": "ipython",
    "version": 3
   },
   "file_extension": ".py",
   "mimetype": "text/x-python",
   "name": "python",
   "nbconvert_exporter": "python",
   "pygments_lexer": "ipython3",
   "version": "3.12.10"
  }
 },
 "nbformat": 4,
 "nbformat_minor": 5
}
